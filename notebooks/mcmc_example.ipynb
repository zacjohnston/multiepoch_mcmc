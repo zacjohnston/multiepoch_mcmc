{
 "cells": [
  {
   "cell_type": "markdown",
   "id": "44de4dd6",
   "metadata": {},
   "source": [
    "# Initialization"
   ]
  },
  {
   "cell_type": "code",
   "execution_count": null,
   "id": "0c29dc08",
   "metadata": {},
   "outputs": [],
   "source": [
    "from pyburst.mcmc import mcmc, mcmc_tools, mcmc_plot\n",
    "from pyburst.interpolator import interpolator\n",
    "\n",
    "%matplotlib inline"
   ]
  },
  {
   "cell_type": "code",
   "execution_count": null,
   "id": "fe206f08",
   "metadata": {},
   "outputs": [],
   "source": [
    "source = 'grid5'\n",
    "version = 0\n",
    "n_walkers = 100"
   ]
  },
  {
   "cell_type": "markdown",
   "id": "6afccdf0",
   "metadata": {},
   "source": [
    "# Setup sampler and walkers"
   ]
  },
  {
   "cell_type": "code",
   "execution_count": null,
   "id": "60e581e3",
   "metadata": {},
   "outputs": [],
   "source": [
    "sampler = mcmc.setup_sampler(source=source, \n",
    "                             version=version, \n",
    "                             n_walkers=n_walkers)\n",
    "\n",
    "pos = mcmc.setup_positions(source=source, \n",
    "                           version=version,\n",
    "                           n_walkers=n_walkers)"
   ]
  },
  {
   "cell_type": "markdown",
   "id": "6a137f9e",
   "metadata": {},
   "source": [
    "# Run MCMC Sampler"
   ]
  },
  {
   "cell_type": "code",
   "execution_count": null,
   "id": "d0cc0c5a",
   "metadata": {},
   "outputs": [],
   "source": [
    "n_steps = 10\n",
    "\n",
    "result = mcmc.run_sampler(sampler=sampler, \n",
    "                          pos=pos, \n",
    "                          n_steps=n_steps)\n",
    "\n",
    "chain = sampler.chain"
   ]
  },
  {
   "cell_type": "markdown",
   "id": "22c51527",
   "metadata": {},
   "source": [
    "# Plot walkers"
   ]
  },
  {
   "cell_type": "code",
   "execution_count": null,
   "id": "44aa347c",
   "metadata": {
    "scrolled": true
   },
   "outputs": [],
   "source": [
    "mcmc_plot.plot_walkers(chain=chain,\n",
    "                       source=source,\n",
    "                       version=version)"
   ]
  },
  {
   "cell_type": "markdown",
   "id": "594efee0",
   "metadata": {},
   "source": [
    "# Plot contours"
   ]
  },
  {
   "cell_type": "code",
   "execution_count": null,
   "id": "a25f3404",
   "metadata": {},
   "outputs": [],
   "source": [
    "plot = mcmc_plot.plot_contours(chain=chain,\n",
    "                               source=source,\n",
    "                               version=version,\n",
    "                               discard=0)"
   ]
  }
 ],
 "metadata": {
  "kernelspec": {
   "display_name": "Python 3 (ipykernel)",
   "language": "python",
   "name": "python3"
  },
  "language_info": {
   "codemirror_mode": {
    "name": "ipython",
    "version": 3
   },
   "file_extension": ".py",
   "mimetype": "text/x-python",
   "name": "python",
   "nbconvert_exporter": "python",
   "pygments_lexer": "ipython3",
   "version": "3.7.9"
  }
 },
 "nbformat": 4,
 "nbformat_minor": 5
}
